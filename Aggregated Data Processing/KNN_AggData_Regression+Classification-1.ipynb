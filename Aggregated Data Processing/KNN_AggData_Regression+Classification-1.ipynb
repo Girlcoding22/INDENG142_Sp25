{
 "cells": [
  {
   "cell_type": "code",
   "execution_count": 55,
   "id": "c6f6c871",
   "metadata": {},
   "outputs": [],
   "source": [
    "import pandas as pd\n",
    "import numpy as np\n",
    "import matplotlib.pyplot as plt\n",
    "import seaborn as sns\n",
    "import os\n",
    "from sklearn.preprocessing import StandardScaler, OneHotEncoder\n",
    "from sklearn.compose import ColumnTransformer\n",
    "from statsmodels.stats.outliers_influence import variance_inflation_factor\n",
    "from sklearn.cluster import KMeans\n",
    "from sklearn.neighbors import KNeighborsRegressor"
   ]
  },
  {
   "cell_type": "code",
   "execution_count": 56,
   "id": "c312e173",
   "metadata": {},
   "outputs": [
    {
     "data": {
      "text/html": [
       "<div>\n",
       "<style scoped>\n",
       "    .dataframe tbody tr th:only-of-type {\n",
       "        vertical-align: middle;\n",
       "    }\n",
       "\n",
       "    .dataframe tbody tr th {\n",
       "        vertical-align: top;\n",
       "    }\n",
       "\n",
       "    .dataframe thead th {\n",
       "        text-align: right;\n",
       "    }\n",
       "</style>\n",
       "<table border=\"1\" class=\"dataframe\">\n",
       "  <thead>\n",
       "    <tr style=\"text-align: right;\">\n",
       "      <th></th>\n",
       "      <th>key</th>\n",
       "      <th>Customer Age</th>\n",
       "      <th>Quantity</th>\n",
       "      <th>Revenue</th>\n",
       "      <th>Cost</th>\n",
       "      <th>Unit Price</th>\n",
       "      <th>Unit Cost</th>\n",
       "      <th>Profit Margin</th>\n",
       "    </tr>\n",
       "  </thead>\n",
       "  <tbody>\n",
       "    <tr>\n",
       "      <th>0</th>\n",
       "      <td>17.0_F_France_Essonne</td>\n",
       "      <td>17.0</td>\n",
       "      <td>6.0</td>\n",
       "      <td>779.0</td>\n",
       "      <td>801.0</td>\n",
       "      <td>129.833333</td>\n",
       "      <td>133.500</td>\n",
       "      <td>0.090187</td>\n",
       "    </tr>\n",
       "    <tr>\n",
       "      <th>1</th>\n",
       "      <td>17.0_F_France_Hauts de Seine</td>\n",
       "      <td>17.0</td>\n",
       "      <td>7.0</td>\n",
       "      <td>1355.0</td>\n",
       "      <td>1181.0</td>\n",
       "      <td>312.458333</td>\n",
       "      <td>272.875</td>\n",
       "      <td>0.152743</td>\n",
       "    </tr>\n",
       "    <tr>\n",
       "      <th>2</th>\n",
       "      <td>17.0_F_France_Loiret</td>\n",
       "      <td>17.0</td>\n",
       "      <td>3.0</td>\n",
       "      <td>43.0</td>\n",
       "      <td>44.0</td>\n",
       "      <td>14.333333</td>\n",
       "      <td>14.670</td>\n",
       "      <td>-0.023256</td>\n",
       "    </tr>\n",
       "    <tr>\n",
       "      <th>3</th>\n",
       "      <td>17.0_F_France_Nord</td>\n",
       "      <td>17.0</td>\n",
       "      <td>6.0</td>\n",
       "      <td>1284.0</td>\n",
       "      <td>1380.0</td>\n",
       "      <td>283.777778</td>\n",
       "      <td>300.000</td>\n",
       "      <td>-0.121049</td>\n",
       "    </tr>\n",
       "    <tr>\n",
       "      <th>4</th>\n",
       "      <td>17.0_F_France_Seine (Paris)</td>\n",
       "      <td>17.0</td>\n",
       "      <td>10.0</td>\n",
       "      <td>1037.0</td>\n",
       "      <td>907.0</td>\n",
       "      <td>91.466667</td>\n",
       "      <td>82.266</td>\n",
       "      <td>0.045366</td>\n",
       "    </tr>\n",
       "  </tbody>\n",
       "</table>\n",
       "</div>"
      ],
      "text/plain": [
       "                            key  Customer Age  Quantity  Revenue    Cost  \\\n",
       "0         17.0_F_France_Essonne          17.0       6.0    779.0   801.0   \n",
       "1  17.0_F_France_Hauts de Seine          17.0       7.0   1355.0  1181.0   \n",
       "2          17.0_F_France_Loiret          17.0       3.0     43.0    44.0   \n",
       "3            17.0_F_France_Nord          17.0       6.0   1284.0  1380.0   \n",
       "4   17.0_F_France_Seine (Paris)          17.0      10.0   1037.0   907.0   \n",
       "\n",
       "   Unit Price  Unit Cost  Profit Margin  \n",
       "0  129.833333    133.500       0.090187  \n",
       "1  312.458333    272.875       0.152743  \n",
       "2   14.333333     14.670      -0.023256  \n",
       "3  283.777778    300.000      -0.121049  \n",
       "4   91.466667     82.266       0.045366  "
      ]
     },
     "execution_count": 56,
     "metadata": {},
     "output_type": "execute_result"
    }
   ],
   "source": [
    "df = pd.read_csv('/Users/stephanycasillas/Desktop/INDENG142_Sp25/aggregated_customer_data.csv')\n",
    "df.head()"
   ]
  },
  {
   "cell_type": "markdown",
   "id": "1011a642",
   "metadata": {},
   "source": [
    "**KNN Regression Technique: Predicting Product Quantity Based on Customer Age, Gender, and Country**"
   ]
  },
  {
   "cell_type": "code",
   "execution_count": 67,
   "id": "d2556dfb",
   "metadata": {},
   "outputs": [],
   "source": [
    "#separating features and target variable\n",
    "df[['Customer Age', 'Gender', 'Country', 'Region']] = df['key'].str.split('_', expand=True)\n",
    "df['Customer Age'] = df['Customer Age'].astype(float)\n",
    "\n",
    "grouped_df = df.groupby(['Customer Age', 'Gender', 'Country', 'Region']).agg({'Quantity': 'mean'}).reset_index()\n",
    "#features\n",
    "#X = df[['Customer Age', 'Gender', 'Country', 'Region']]\n",
    "X = grouped_df[['Customer Age', 'Gender', 'Country', 'Region']]\n",
    "#target variable\n",
    "y = grouped_df['Quantity']\n",
    "\n",
    "#encoding categorical columns\n",
    "X = pd.get_dummies(X)\n",
    "\n",
    "#Normalize data \n",
    "scaler = StandardScaler()\n",
    "X_scaled = scaler.fit_transform(X)"
   ]
  },
  {
   "cell_type": "code",
   "execution_count": 68,
   "id": "f4071e83",
   "metadata": {},
   "outputs": [],
   "source": [
    "from sklearn.model_selection import train_test_split\n",
    "\n",
    "#train-test split\n",
    "X_train, X_test, y_train, y_test = train_test_split(X_scaled, y, test_size = 0.2, random_state = 42)\n",
    "\n",
    "#train KNN\n",
    "knn = KNeighborsRegressor(n_neighbors = 6)\n",
    "knn.fit(X_train, y_train)\n",
    "\n",
    "#predict\n",
    "y_pred = knn.predict(X_test)"
   ]
  },
  {
   "cell_type": "code",
   "execution_count": 69,
   "id": "cda45ee4",
   "metadata": {},
   "outputs": [
    {
     "name": "stdout",
     "output_type": "stream",
     "text": [
      "RMSE: 1622.2140422631219\n",
      "r2: 0.5812964302425889\n"
     ]
    }
   ],
   "source": [
    "from sklearn.metrics import mean_squared_error, r2_score\n",
    "print(\"RMSE:\", mean_squared_error(y_test, y_pred))\n",
    "print(\"r2:\", r2_score(y_test, y_pred))"
   ]
  },
  {
   "cell_type": "markdown",
   "id": "65eec324",
   "metadata": {},
   "source": [
    "**KNN Classification**"
   ]
  },
  {
   "cell_type": "code",
   "execution_count": 70,
   "id": "5aceb691",
   "metadata": {},
   "outputs": [],
   "source": [
    "#separating features and target variable\n",
    "df[['Customer Age', 'Gender', 'Country', 'Region']] = df['key'].str.split('_', expand=True)\n",
    "df['Customer Age'] = df['Customer Age'].astype(float)\n",
    "#features\n",
    "X = df[['Customer Age', 'Gender', 'Country', 'Region']]\n",
    "y = df['Quantity']\n",
    "\n",
    "#encoding categorical columns\n",
    "X = pd.get_dummies(X)\n",
    "\n",
    "y = df['Quantity']\n",
    "\n",
    "scaler = StandardScaler()\n",
    "X_scaled = scaler.fit_transform(X)\n",
    "\n",
    "X_train, X_test, y_train, y_test = train_test_split(X_scaled, y, test_size = 0.3, random_state= 42)"
   ]
  },
  {
   "cell_type": "code",
   "execution_count": 71,
   "id": "fe5d03c4",
   "metadata": {},
   "outputs": [],
   "source": [
    "#training KNN classifer\n",
    "from sklearn.neighbors import KNeighborsClassifier\n",
    "knn = KNeighborsClassifier(n_neighbors = 6)\n",
    "knn.fit(X_train, y_train)\n",
    "\n",
    "y_pred = knn.predict(X_test)"
   ]
  },
  {
   "cell_type": "code",
   "execution_count": 72,
   "id": "10281fb9",
   "metadata": {},
   "outputs": [
    {
     "name": "stdout",
     "output_type": "stream",
     "text": [
      "Accuracy: 0.05112474437627812\n",
      "f1 0.04146333809236459\n"
     ]
    }
   ],
   "source": [
    "from sklearn.metrics import accuracy_score, f1_score\n",
    "print(\"Accuracy:\", accuracy_score(y_test, y_pred))\n",
    "print(\"f1\", f1_score(y_test, y_pred, average = 'weighted'))"
   ]
  }
 ],
 "metadata": {
  "kernelspec": {
   "display_name": "142a",
   "language": "python",
   "name": "python3"
  },
  "language_info": {
   "codemirror_mode": {
    "name": "ipython",
    "version": 3
   },
   "file_extension": ".py",
   "mimetype": "text/x-python",
   "name": "python",
   "nbconvert_exporter": "python",
   "pygments_lexer": "ipython3",
   "version": "3.12.2"
  }
 },
 "nbformat": 4,
 "nbformat_minor": 5
}
