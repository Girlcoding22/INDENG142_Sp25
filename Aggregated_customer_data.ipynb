{
 "cells": [
  {
   "cell_type": "code",
   "execution_count": 7,
   "metadata": {},
   "outputs": [],
   "source": [
    "import pandas as pd\n",
    "\n",
    "df = pd.read_csv('Data.csv') \n",
    "\n",
    "df['Profit'] = df['Revenue'] - df['Cost']\n",
    "df[\"Profit Margin\"] = df[\"Profit\"] / df[\"Revenue\"]\n",
    "\n",
    "# Create a group key\n",
    "df['key'] = df['Customer Age'].astype(str) + \"_\" + df['Customer Gender'] + \"_\" + df['Country'] + \"_\" + df['State']\n",
    "\n",
    "customer_key = df.groupby('key').agg({\n",
    "    'Quantity': 'sum',\n",
    "    'Revenue': 'sum',\n",
    "    'Cost': 'sum',\n",
    "    'Unit Price': 'mean',\n",
    "    'Unit Cost': 'mean',\n",
    "    'Profit Margin': 'mean'\n",
    "}).reset_index()\n",
    "\n",
    "customer_key.to_csv('aggregated_customer_data.csv', index=False)\n"
   ]
  }
 ],
 "metadata": {
  "kernelspec": {
   "display_name": ".venv",
   "language": "python",
   "name": "python3"
  },
  "language_info": {
   "codemirror_mode": {
    "name": "ipython",
    "version": 3
   },
   "file_extension": ".py",
   "mimetype": "text/x-python",
   "name": "python",
   "nbconvert_exporter": "python",
   "pygments_lexer": "ipython3",
   "version": "3.13.2"
  }
 },
 "nbformat": 4,
 "nbformat_minor": 2
}
