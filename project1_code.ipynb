{
 "cells": [
  {
   "cell_type": "markdown",
   "id": "c38b2c2f",
   "metadata": {},
   "source": [
    "# Project 1\n",
    "Dataset: https://www.kaggle.com/datasets/thedevastator/analyzing-customer-spending-habits-to-improve-sa \n",
    "It is about customer spending habits, found in kaggle."
   ]
  },
  {
   "cell_type": "code",
   "execution_count": 2,
   "id": "0002e695",
   "metadata": {},
   "outputs": [
    {
     "name": "stderr",
     "output_type": "stream",
     "text": [
      "/Users/ggrojas27/Documents/GitHub/INDENG142_Sp25/.venv/lib/python3.9/site-packages/urllib3/__init__.py:35: NotOpenSSLWarning: urllib3 v2 only supports OpenSSL 1.1.1+, currently the 'ssl' module is compiled with 'LibreSSL 2.8.3'. See: https://github.com/urllib3/urllib3/issues/3020\n",
      "  warnings.warn(\n"
     ]
    }
   ],
   "source": [
    "# Install dependencies as needed:\n",
    "# pip install kagglehub[pandas-datasets]\n",
    "import kagglehub\n",
    "from kagglehub import KaggleDatasetAdapter"
   ]
  },
  {
   "cell_type": "code",
   "execution_count": 5,
   "id": "3c9af740",
   "metadata": {},
   "outputs": [
    {
     "name": "stderr",
     "output_type": "stream",
     "text": [
      "/var/folders/x_/_l4rp9ln2lx_450s4hxz6rd40000gn/T/ipykernel_2296/267186953.py:5: DeprecationWarning: load_dataset is deprecated and will be removed in future version.\n",
      "  df = kagglehub.load_dataset(\n"
     ]
    },
    {
     "name": "stdout",
     "output_type": "stream",
     "text": [
      "Downloading from https://www.kaggle.com/api/v1/datasets/download/thedevastator/analyzing-customer-spending-habits-to-improve-sa?dataset_version_number=2&file_name=SalesForCourse_quizz_table.csv...\n"
     ]
    },
    {
     "name": "stderr",
     "output_type": "stream",
     "text": [
      "100%|██████████| 591k/591k [00:00<00:00, 4.65MB/s]"
     ]
    },
    {
     "name": "stdout",
     "output_type": "stream",
     "text": [
      "Extracting zip of SalesForCourse_quizz_table.csv...\n"
     ]
    },
    {
     "name": "stderr",
     "output_type": "stream",
     "text": [
      "\n"
     ]
    },
    {
     "name": "stdout",
     "output_type": "stream",
     "text": [
      "First 5 records:    index      Date    Year     Month  Customer Age Customer Gender  \\\n",
      "0      0  02/19/16  2016.0  February          29.0               F   \n",
      "1      1  02/20/16  2016.0  February          29.0               F   \n",
      "2      2  02/27/16  2016.0  February          29.0               F   \n",
      "3      3  03/12/16  2016.0     March          29.0               F   \n",
      "4      4  03/12/16  2016.0     March          29.0               F   \n",
      "\n",
      "         Country       State Product Category     Sub Category  Quantity  \\\n",
      "0  United States  Washington      Accessories  Tires and Tubes       1.0   \n",
      "1  United States  Washington         Clothing           Gloves       2.0   \n",
      "2  United States  Washington      Accessories  Tires and Tubes       3.0   \n",
      "3  United States  Washington      Accessories  Tires and Tubes       2.0   \n",
      "4  United States  Washington      Accessories  Tires and Tubes       3.0   \n",
      "\n",
      "   Unit Cost  Unit Price   Cost  Revenue  Column1  \n",
      "0      80.00  109.000000   80.0    109.0      NaN  \n",
      "1      24.50   28.500000   49.0     57.0      NaN  \n",
      "2       3.67    5.000000   11.0     15.0      NaN  \n",
      "3      87.50  116.500000  175.0    233.0      NaN  \n",
      "4      35.00   41.666667  105.0    125.0      NaN  \n"
     ]
    }
   ],
   "source": [
    "# Set the path to the file you'd like to load\n",
    "file_path = \"SalesForCourse_quizz_table.csv\"\n",
    "\n",
    "# Load the latest version\n",
    "df = kagglehub.load_dataset(\n",
    "  KaggleDatasetAdapter.PANDAS,\n",
    "  \"thedevastator/analyzing-customer-spending-habits-to-improve-sa\",\n",
    "  file_path,\n",
    "  # Provide any additional arguments like \n",
    "  # sql_query or pandas_kwargs. See the \n",
    "  # documenation for more information:\n",
    "  # https://github.com/Kaggle/kagglehub/blob/main/README.md#kaggledatasetadapterpandas\n",
    ")\n",
    "\n",
    "print(\"First 5 records:\", df.head())"
   ]
  },
  {
   "cell_type": "code",
   "execution_count": null,
   "id": "b0c4c0fa",
   "metadata": {},
   "outputs": [],
   "source": []
  }
 ],
 "metadata": {
  "kernelspec": {
   "display_name": ".venv",
   "language": "python",
   "name": "python3"
  },
  "language_info": {
   "codemirror_mode": {
    "name": "ipython",
    "version": 3
   },
   "file_extension": ".py",
   "mimetype": "text/x-python",
   "name": "python",
   "nbconvert_exporter": "python",
   "pygments_lexer": "ipython3",
   "version": "3.9.6"
  }
 },
 "nbformat": 4,
 "nbformat_minor": 5
}
